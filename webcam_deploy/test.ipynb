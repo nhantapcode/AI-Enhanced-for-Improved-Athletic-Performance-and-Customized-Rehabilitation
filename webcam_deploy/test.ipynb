{
 "cells": [
  {
   "cell_type": "code",
   "execution_count": 2,
   "metadata": {},
   "outputs": [],
   "source": [
    "import numpy as np\n",
    "import mediapipe as mp\n",
    "import matplotlib.pyplot as plt\n",
    "import cv2\n",
    "import csv"
   ]
  },
  {
   "cell_type": "code",
   "execution_count": 2,
   "metadata": {},
   "outputs": [],
   "source": [
    "path =  \"000009.mp4\"\n",
    "mp_pose = mp.solutions.pose\n",
    "mp_drawing = mp.solutions.drawing_utils"
   ]
  },
  {
   "cell_type": "code",
   "execution_count": 20,
   "metadata": {},
   "outputs": [
    {
     "name": "stdout",
     "output_type": "stream",
     "text": [
      "Landmarks và frame đã được lưu vào file tap_squat_dung.csv\n"
     ]
    }
   ],
   "source": [
    "# Mở camera\n",
    "cap = cv2.VideoCapture(path)  # Sử dụng camera mặc định (0) nếu có nhiều camera, thay bằng số khác\n",
    "\n",
    "# Danh sách lưu toàn bộ landmarks\n",
    "landmarks_list = []\n",
    "\n",
    "# Khởi tạo đối tượng Pose từ Mediapipe\n",
    "with mp_pose.Pose(min_detection_confidence=0.5, min_tracking_confidence=0.5) as pose:\n",
    "    frame_count = 0  # Đếm số frame\n",
    "    while cap.isOpened():\n",
    "        ret, frame = cap.read()\n",
    "        if not ret:\n",
    "            break\n",
    "        \n",
    "        # Tăng chỉ số frame\n",
    "        frame_count += 1\n",
    "        \n",
    "        # Chuyển đổi ảnh sang RGB\n",
    "        image = cv2.cvtColor(frame, cv2.COLOR_BGR2RGB)\n",
    "        image.flags.writeable = False\n",
    "        \n",
    "        # Xử lý ảnh với Mediapipe Pose\n",
    "        results = pose.process(image)\n",
    "        \n",
    "        # Chuyển lại ảnh sang BGR để hiển thị\n",
    "        image.flags.writeable = True\n",
    "        image = cv2.cvtColor(image, cv2.COLOR_RGB2BGR)\n",
    "        \n",
    "        if results.pose_landmarks:\n",
    "            mp_drawing.draw_landmarks(image, results.pose_landmarks, mp_pose.POSE_CONNECTIONS)\n",
    "        \n",
    "        # Lưu landmarks trong frame hiện tại\n",
    "        if results.pose_landmarks:\n",
    "            frame_landmarks = [frame_count]  # Lưu chỉ số frame đầu tiên\n",
    "            for landmark in results.pose_landmarks.landmark:\n",
    "                frame_landmarks.extend([landmark.x, landmark.y, landmark.z])  # Lưu x, y, z của mỗi landmark\n",
    "            \n",
    "            landmarks_list.append(frame_landmarks)  # Thêm landmarks vào danh sách\n",
    "\n",
    "        # Hiển thị ảnh camera\n",
    "        cv2.imshow('tap_squat_sai', image)\n",
    "        \n",
    "        # Nhấn 'q' để thoát\n",
    "        if cv2.waitKey(1) & 0xFF == ord('q'):\n",
    "            break\n",
    "\n",
    "# Lưu dữ liệu landmarks vào file CSV khi thoát camera\n",
    "with open('tap_squat_sai.csv', 'w', newline='') as file:\n",
    "    writer = csv.writer(file)\n",
    "    \n",
    "    # Ghi tiêu đề: Frame, Joint 1, Joint 2, ..., Joint 33\n",
    "    header = ['Frame']\n",
    "    for i in range(33):  # 33 landmarks\n",
    "        header.extend([f'x_{i}', f'y_{i}', f'z_{i}'])\n",
    "    writer.writerow(header)\n",
    "    \n",
    "    # Ghi dữ liệu từng frame\n",
    "    writer.writerows(landmarks_list)\n",
    "\n",
    "# Giải phóng camera và đóng cửa sổ\n",
    "cap.release()\n",
    "cv2.destroyAllWindows()\n",
    "\n",
    "print(\"Landmarks và frame đã được lưu vào file tap_squat_dung.csv\")"
   ]
  },
  {
   "cell_type": "code",
   "execution_count": 6,
   "metadata": {},
   "outputs": [
    {
     "name": "stdout",
     "output_type": "stream",
     "text": [
      "Đã mở camera\n"
     ]
    }
   ],
   "source": [
    "camera = cv2.VideoCapture(0)\n",
    "if not camera.isOpened():\n",
    "    print(\"Không thể mở camera\")\n",
    "else:\n",
    "    print(\"Đã mở camera\")\n",
    "\n",
    "frameWidth = int(camera.get(cv2.CAP_PROP_FRAME_WIDTH))\n",
    "frameHeight = int(camera.get(cv2.CAP_PROP_FRAME_HEIGHT))\n",
    "frameRate = int(camera.get(cv2.CAP_PROP_FPS))"
   ]
  },
  {
   "cell_type": "code",
   "execution_count": 7,
   "metadata": {},
   "outputs": [],
   "source": [
    "# fourcc = cv2.VideoWriter_fourcc(*'DIVX')\n",
    "# videoFileName = 'recoredvideo.avi'\n",
    "# videoDimension = (frameWidth, frameHeight)\n",
    "# recorder = cv2.VideoWriter(videoFileName, fourcc, frameRate, videoDimension)\n",
    "\n",
    "# while True:\n",
    "#     success, frame = camera.read()\n",
    "#     if not success:\n",
    "#         print(\"Không thể đọc frame\")\n",
    "#         break\n",
    "    \n",
    "#     cv2.imshow(\"Camera\", frame)\n",
    "#     recorder.write(frame)\n",
    "\n",
    "#     if cv2.waitKey(1) & 0xFF == ord('q'):\n",
    "#         break\n",
    "\n",
    "# recorder.release()\n",
    "# camera.release()\n",
    "# cv2.destroyAllWindows()"
   ]
  },
  {
   "cell_type": "code",
   "execution_count": 21,
   "metadata": {},
   "outputs": [
    {
     "name": "stdout",
     "output_type": "stream",
     "text": [
      "Processing completed successfully!\n"
     ]
    }
   ],
   "source": [
    "# Path to the input video\n",
    "path = \"barbell biceps curl_12.mp4\"\n",
    "\n",
    "# Initialize MediaPipe Pose and drawing utilities\n",
    "mp_pose = mp.solutions.pose\n",
    "mp_drawing = mp.solutions.drawing_utils\n",
    "\n",
    "# Open the video file\n",
    "camera = cv2.VideoCapture(path)\n",
    "\n",
    "# Ensure the video is successfully opened\n",
    "if not camera.isOpened():\n",
    "    print(\"Error: Could not open video file.\")\n",
    "    exit()\n",
    "\n",
    "# Retrieve the video's frame width, height, and frame rate\n",
    "frameWidth = int(camera.get(cv2.CAP_PROP_FRAME_WIDTH))\n",
    "frameHeight = int(camera.get(cv2.CAP_PROP_FRAME_HEIGHT))\n",
    "frameRate = int(camera.get(cv2.CAP_PROP_FPS))\n",
    "\n",
    "# Initialize the VideoWriter for saving the output video\n",
    "fourcc = cv2.VideoWriter_fourcc(*'DIVX')\n",
    "videoFileName = 'barbell_biceps_curl_12_preprocess.avi'\n",
    "videoDimension = (frameWidth, frameHeight)\n",
    "recorder = cv2.VideoWriter(videoFileName, fourcc, frameRate, videoDimension)\n",
    "\n",
    "# Initialize the MediaPipe Pose object\n",
    "with mp_pose.Pose(min_detection_confidence=0.5, min_tracking_confidence=0.5) as pose:\n",
    "    while True:\n",
    "        ret, frame = camera.read()\n",
    "        if not ret:  # Break if no frame is captured (end of video)\n",
    "            break\n",
    "\n",
    "        # Convert the frame to RGB for MediaPipe processing\n",
    "        image = cv2.cvtColor(frame, cv2.COLOR_BGR2RGB)\n",
    "        image.flags.writeable = False  # Improve performance by disabling writeability\n",
    "\n",
    "        # Process the frame with MediaPipe Pose\n",
    "        results = pose.process(image)\n",
    "\n",
    "        # Convert the frame back to BGR for OpenCV rendering\n",
    "        image.flags.writeable = True\n",
    "        image = cv2.cvtColor(image, cv2.COLOR_RGB2BGR)\n",
    "\n",
    "        # Draw landmarks on the frame if pose landmarks are detected\n",
    "        if results.pose_landmarks:\n",
    "            mp_drawing.draw_landmarks(image, results.pose_landmarks, mp_pose.POSE_CONNECTIONS)\n",
    "\n",
    "        # Display the processed frame in a window\n",
    "        cv2.imshow('Pose Detection', image)\n",
    "\n",
    "        # Write the processed frame to the output video\n",
    "        recorder.write(image)\n",
    "\n",
    "        # Break the loop if the 'q' key is pressed\n",
    "        if cv2.waitKey(1) & 0xFF == ord('q'):\n",
    "            break\n",
    "\n",
    "# Release resources and close windows\n",
    "recorder.release()\n",
    "camera.release()\n",
    "cv2.destroyAllWindows()\n",
    "\n",
    "print(\"Processing completed successfully!\")\n"
   ]
  },
  {
   "cell_type": "code",
   "execution_count": 8,
   "metadata": {},
   "outputs": [],
   "source": [
    "fourcc = cv2.VideoWriter_fourcc(*'MP4V')\n",
    "videoFileName = 'recoredvideo.mp4'\n",
    "videoDimension = (frameWidth, frameHeight)\n",
    "recorder = cv2.VideoWriter(videoFileName, fourcc, frameRate, videoDimension)\n",
    "\n",
    "while True:\n",
    "    success, frame = camera.read()\n",
    "    if not success:\n",
    "        print(\"Không thể đọc frame\")\n",
    "        break\n",
    "    \n",
    "    cv2.imshow(\"Camera\", frame)\n",
    "    recorder.write(frame)\n",
    "\n",
    "    if cv2.waitKey(1) & 0xFF == ord('q'):\n",
    "        break\n",
    "\n",
    "recorder.release()\n",
    "camera.release()\n",
    "cv2.destroyAllWindows()"
   ]
  },
  {
   "cell_type": "code",
   "execution_count": null,
   "metadata": {},
   "outputs": [],
   "source": []
  }
 ],
 "metadata": {
  "kernelspec": {
   "display_name": "pytorch",
   "language": "python",
   "name": "python3"
  },
  "language_info": {
   "codemirror_mode": {
    "name": "ipython",
    "version": 3
   },
   "file_extension": ".py",
   "mimetype": "text/x-python",
   "name": "python",
   "nbconvert_exporter": "python",
   "pygments_lexer": "ipython3",
   "version": "3.10.15"
  }
 },
 "nbformat": 4,
 "nbformat_minor": 2
}
