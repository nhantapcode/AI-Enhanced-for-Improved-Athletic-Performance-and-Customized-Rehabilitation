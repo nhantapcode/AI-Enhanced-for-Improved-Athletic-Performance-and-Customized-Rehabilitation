{
 "cells": [
  {
   "cell_type": "code",
   "execution_count": 1,
   "metadata": {},
   "outputs": [],
   "source": [
    "import tensorflow as tf\n",
    "import numpy as np\n",
    "import matplotlib.pyplot as plt\n",
    "import cv2"
   ]
  },
  {
   "cell_type": "markdown",
   "metadata": {},
   "source": [
    "## Notebook này sẽ giải thích từng line code 1 của từng def"
   ]
  },
  {
   "cell_type": "code",
   "execution_count": 5,
   "metadata": {},
   "outputs": [],
   "source": [
    "interpreter = tf.lite.Interpreter(model_path=r\"single_pose.tflite\")\n",
    "interpreter.allocate_tensors()"
   ]
  },
  {
   "cell_type": "code",
   "execution_count": 6,
   "metadata": {},
   "outputs": [
    {
     "name": "stdout",
     "output_type": "stream",
     "text": [
      "[[[[0.4571607  0.40652776 0.69493556]\n",
      "   [0.41019887 0.47348484 0.73562944]\n",
      "   [0.4112266  0.38901728 0.75919634]\n",
      "   [0.45445776 0.5829029  0.5699538 ]\n",
      "   [0.43974918 0.39518225 0.48571637]\n",
      "   [0.677474   0.73597944 0.67629635]\n",
      "   [0.6465199  0.27765507 0.7478485 ]\n",
      "   [0.65560466 0.81647134 0.25130293]\n",
      "   [0.878539   0.18884437 0.17054994]\n",
      "   [0.4989124  0.7087898  0.19433822]\n",
      "   [0.6127289  0.26477918 0.01483351]\n",
      "   [0.999156   0.6336676  0.00518921]\n",
      "   [0.9862966  0.34516823 0.00824883]\n",
      "   [0.4505112  0.5248575  0.031262  ]\n",
      "   [0.662263   0.25934732 0.01919806]\n",
      "   [0.4594128  0.6818924  0.10171992]\n",
      "   [0.7272248  0.03074136 0.02905555]]]]\n"
     ]
    }
   ],
   "source": [
    "cap = cv2.VideoCapture(0)\n",
    "while cap.isOpened():\n",
    "    ret, frame = cap.read()\n",
    "\n",
    "    #reshape the frame to 1x192x192x3\n",
    "    img = frame.copy()\n",
    "    img = tf.image.resize_with_pad(np.expand_dims(img, axis=0), 192,192)\n",
    "    input_image = tf.cast(img, dtype=tf.float32)\n",
    "\n",
    "    # Setup input and output \n",
    "    input_details = interpreter.get_input_details()\n",
    "    output_details = interpreter.get_output_details()\n",
    "\n",
    "\n",
    "    # Make predictions \n",
    "    interpreter.set_tensor(input_details[0]['index'], np.array(input_image))\n",
    "    interpreter.invoke()\n",
    "    keypoints_with_scores = interpreter.get_tensor(output_details[0]['index'])\n",
    "    print(keypoints_with_scores)\n",
    "\n",
    "    \n",
    "    cv2.imshow('MoveNet Lightning', frame)\n",
    "    \n",
    "    if cv2.waitKey(10) & 0xFF==ord('q'):\n",
    "        break\n",
    "        \n",
    "cap.release()\n",
    "cv2.destroyAllWindows()"
   ]
  },
  {
   "cell_type": "code",
   "execution_count": 8,
   "metadata": {},
   "outputs": [
    {
     "name": "stdout",
     "output_type": "stream",
     "text": [
      "right_eye: [0.4112266  0.38901728 0.75919634]\n",
      "----------------\n",
      "left_elbow: [0.65560466 0.81647134 0.25130293]\n"
     ]
    }
   ],
   "source": [
    "right_eye = keypoints_with_scores[0][0][2]\n",
    "left_elbow = keypoints_with_scores[0][0][7]\n",
    "print(f\"right_eye: {right_eye}\")\n",
    "print(\"----------------\")\n",
    "print(f\"left_elbow: {left_elbow}\")"
   ]
  },
  {
   "cell_type": "code",
   "execution_count": 10,
   "metadata": {},
   "outputs": [
    {
     "name": "stdout",
     "output_type": "stream",
     "text": [
      "219 260 0.6949355602264404\n",
      "196 303 0.7356294393539429\n",
      "197 248 0.7591963410377502\n",
      "218 373 0.5699537992477417\n",
      "211 252 0.4857163727283478\n",
      "325 471 0.6762963533401489\n",
      "310 177 0.7478485107421875\n",
      "314 522 0.25130292773246765\n",
      "421 120 0.17054994404315948\n",
      "239 453 0.19433821737766266\n",
      "294 169 0.014833508990705013\n",
      "479 405 0.005189213901758194\n",
      "473 220 0.008248832076787949\n",
      "216 335 0.03126199543476105\n",
      "317 165 0.019198056310415268\n",
      "220 436 0.1017199233174324\n",
      "349 19 0.029055554419755936\n"
     ]
    }
   ],
   "source": [
    "shaped = np.squeeze(np.multiply(interpreter.get_tensor(interpreter.get_output_details()[0]['index']), [480,640,1])) #(480,640) là chiều cao, chiều dài của ảnh\n",
    "for kp in shaped:\n",
    "    ky, kx, kp_conf = kp\n",
    "    print(int(ky), int(kx), kp_conf)"
   ]
  },
  {
   "cell_type": "code",
   "execution_count": null,
   "metadata": {},
   "outputs": [],
   "source": [
    "def draw_keypoints(frame, keypoints, confidence_threshold):\n",
    "    y, x, c = frame.shape\n",
    "    shaped = np.squeeze(np.multiply(keypoints, [y,x,1]))\n",
    "    \n",
    "    for kp in shaped:\n",
    "        ky, kx, kp_conf = kp\n",
    "        if kp_conf > confidence_threshold:\n",
    "            cv2.circle(frame, (int(kx), int(ky)), 4, (0,255,0), -1) #radius = 4, color = (0,255,0), thickness = -1"
   ]
  },
  {
   "cell_type": "code",
   "execution_count": 11,
   "metadata": {},
   "outputs": [],
   "source": [
    "EDGES = {\n",
    "    (0, 1): 'm',\n",
    "    (0, 2): 'c',\n",
    "    (1, 3): 'm',\n",
    "    (2, 4): 'c',\n",
    "    (0, 5): 'm',\n",
    "    (0, 6): 'c',\n",
    "    (5, 7): 'm',\n",
    "    (7, 9): 'm',\n",
    "    (6, 8): 'c',\n",
    "    (8, 10): 'c',\n",
    "    (5, 6): 'y',\n",
    "    (5, 11): 'm',\n",
    "    (6, 12): 'c',\n",
    "    (11, 12): 'y',\n",
    "    (11, 13): 'm',\n",
    "    (13, 15): 'm',\n",
    "    (12, 14): 'c',\n",
    "    (14, 16): 'c'\n",
    "}"
   ]
  },
  {
   "cell_type": "code",
   "execution_count": 13,
   "metadata": {},
   "outputs": [
    {
     "name": "stdout",
     "output_type": "stream",
     "text": [
      "(303, 196)\n",
      "(248, 197)\n",
      "(373, 218)\n",
      "(252, 211)\n",
      "(471, 325)\n",
      "(177, 310)\n",
      "(522, 314)\n",
      "(453, 239)\n",
      "(120, 421)\n",
      "(169, 294)\n",
      "(177, 310)\n",
      "(405, 479)\n",
      "(220, 473)\n",
      "(220, 473)\n",
      "(335, 216)\n",
      "(436, 220)\n",
      "(165, 317)\n",
      "(19, 349)\n"
     ]
    }
   ],
   "source": [
    "shaped[0], shaped[1]\n",
    "for edge, color in EDGES.items():\n",
    "    p1, p2 = edge\n",
    "    y1, x1, c1 = shaped[p1]\n",
    "    y2, x2, c2 = shaped[p2]\n",
    "    print((int(x2), int(y2)))"
   ]
  },
  {
   "cell_type": "code",
   "execution_count": 14,
   "metadata": {},
   "outputs": [],
   "source": [
    "def draw_connections(frame, keypoints, edges, confidence_threshold):\n",
    "    y, x, c = frame.shape\n",
    "    shaped = np.squeeze(np.multiply(keypoints, [y,x,1]))\n",
    "    \n",
    "    for edge, color in edges.items():\n",
    "        p1, p2 = edge\n",
    "        y1, x1, c1 = shaped[p1]\n",
    "        y2, x2, c2 = shaped[p2]\n",
    "        \n",
    "        if (c1 > confidence_threshold) & (c2 > confidence_threshold):      \n",
    "            cv2.line(frame, (int(x1), int(y1)), (int(x2), int(y2)), (0,0,255), 2)"
   ]
  }
 ],
 "metadata": {
  "kernelspec": {
   "display_name": "tf",
   "language": "python",
   "name": "python3"
  },
  "language_info": {
   "codemirror_mode": {
    "name": "ipython",
    "version": 3
   },
   "file_extension": ".py",
   "mimetype": "text/x-python",
   "name": "python",
   "nbconvert_exporter": "python",
   "pygments_lexer": "ipython3",
   "version": "3.9.20"
  }
 },
 "nbformat": 4,
 "nbformat_minor": 2
}
